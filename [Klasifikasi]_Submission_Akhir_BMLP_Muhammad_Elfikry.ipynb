{
  "cells": [
    {
      "cell_type": "markdown",
      "metadata": {
        "id": "fKADPWcFKlj3"
      },
      "source": [
        "# **1. Import Library**"
      ]
    },
    {
      "cell_type": "markdown",
      "metadata": {
        "id": "LgA3ERnVn84N"
      },
      "source": [
        "Pada tahap ini, Anda perlu mengimpor beberapa pustaka (library) Python yang dibutuhkan untuk analisis data dan pembangunan model machine learning."
      ]
    },
    {
      "cell_type": "code",
      "execution_count": 77,
      "metadata": {
        "id": "BlmvjLY9M4Yj"
      },
      "outputs": [],
      "source": [
        "from sklearn.neighbors import KNeighborsClassifier\n",
        "from sklearn.tree import DecisionTreeClassifier\n",
        "from sklearn.linear_model import LogisticRegression\n",
        "from sklearn.model_selection import train_test_split\n",
        "from sklearn.preprocessing import StandardScaler\n",
        "from sklearn.model_selection import GridSearchCV\n",
        "from sklearn.metrics import confusion_matrix, classification_report, accuracy_score, f1_score\n",
        "from imblearn.over_sampling import SMOTE\n",
        "from collections import Counter\n",
        "import pandas as pd\n",
        "import matplotlib.pyplot as plt\n",
        "import seaborn as sns"
      ]
    },
    {
      "cell_type": "markdown",
      "metadata": {
        "id": "f3YIEnAFKrKL"
      },
      "source": [
        "# **2. Memuat Dataset dari Hasil Clustering**"
      ]
    },
    {
      "cell_type": "markdown",
      "metadata": {
        "id": "Ey3ItwTen_7E"
      },
      "source": [
        "Memuat dataset hasil clustering dari file CSV ke dalam variabel DataFrame."
      ]
    },
    {
      "cell_type": "code",
      "execution_count": 17,
      "metadata": {
        "id": "GHCGNTyrM5fS"
      },
      "outputs": [
        {
          "data": {
            "text/html": [
              "<div>\n",
              "<style scoped>\n",
              "    .dataframe tbody tr th:only-of-type {\n",
              "        vertical-align: middle;\n",
              "    }\n",
              "\n",
              "    .dataframe tbody tr th {\n",
              "        vertical-align: top;\n",
              "    }\n",
              "\n",
              "    .dataframe thead th {\n",
              "        text-align: right;\n",
              "    }\n",
              "</style>\n",
              "<table border=\"1\" class=\"dataframe\">\n",
              "  <thead>\n",
              "    <tr style=\"text-align: right;\">\n",
              "      <th></th>\n",
              "      <th>Customer_ID</th>\n",
              "      <th>Recency</th>\n",
              "      <th>Frequency</th>\n",
              "      <th>Monetary</th>\n",
              "      <th>Count_Discount</th>\n",
              "      <th>Avg_Discount</th>\n",
              "      <th>AOV</th>\n",
              "      <th>Cluster</th>\n",
              "      <th>Top_Category</th>\n",
              "    </tr>\n",
              "  </thead>\n",
              "  <tbody>\n",
              "    <tr>\n",
              "      <th>0</th>\n",
              "      <td>CUS1</td>\n",
              "      <td>1.0</td>\n",
              "      <td>305.0</td>\n",
              "      <td>38904.13</td>\n",
              "      <td>0.0</td>\n",
              "      <td>0.000000</td>\n",
              "      <td>127.554525</td>\n",
              "      <td>1</td>\n",
              "      <td>Soft Drinks</td>\n",
              "    </tr>\n",
              "    <tr>\n",
              "      <th>1</th>\n",
              "      <td>CUS10</td>\n",
              "      <td>2.0</td>\n",
              "      <td>296.0</td>\n",
              "      <td>40288.83</td>\n",
              "      <td>0.0</td>\n",
              "      <td>0.000000</td>\n",
              "      <td>136.110912</td>\n",
              "      <td>1</td>\n",
              "      <td>Water</td>\n",
              "    </tr>\n",
              "    <tr>\n",
              "      <th>2</th>\n",
              "      <td>CUS100</td>\n",
              "      <td>3.0</td>\n",
              "      <td>287.0</td>\n",
              "      <td>36039.74</td>\n",
              "      <td>0.0</td>\n",
              "      <td>0.000000</td>\n",
              "      <td>125.574007</td>\n",
              "      <td>1</td>\n",
              "      <td>Soft Drinks</td>\n",
              "    </tr>\n",
              "    <tr>\n",
              "      <th>3</th>\n",
              "      <td>CUS1000</td>\n",
              "      <td>1.0</td>\n",
              "      <td>289.0</td>\n",
              "      <td>271186.90</td>\n",
              "      <td>881.0</td>\n",
              "      <td>99.625474</td>\n",
              "      <td>938.362976</td>\n",
              "      <td>2</td>\n",
              "      <td>Soft Drinks</td>\n",
              "    </tr>\n",
              "    <tr>\n",
              "      <th>4</th>\n",
              "      <td>CUS10000</td>\n",
              "      <td>7.0</td>\n",
              "      <td>299.0</td>\n",
              "      <td>253436.72</td>\n",
              "      <td>929.0</td>\n",
              "      <td>92.616119</td>\n",
              "      <td>847.614448</td>\n",
              "      <td>2</td>\n",
              "      <td>Juices</td>\n",
              "    </tr>\n",
              "  </tbody>\n",
              "</table>\n",
              "</div>"
            ],
            "text/plain": [
              "  Customer_ID  Recency  Frequency   Monetary  Count_Discount  Avg_Discount  \\\n",
              "0        CUS1      1.0      305.0   38904.13             0.0      0.000000   \n",
              "1       CUS10      2.0      296.0   40288.83             0.0      0.000000   \n",
              "2      CUS100      3.0      287.0   36039.74             0.0      0.000000   \n",
              "3     CUS1000      1.0      289.0  271186.90           881.0     99.625474   \n",
              "4    CUS10000      7.0      299.0  253436.72           929.0     92.616119   \n",
              "\n",
              "          AOV  Cluster Top_Category  \n",
              "0  127.554525        1  Soft Drinks  \n",
              "1  136.110912        1        Water  \n",
              "2  125.574007        1  Soft Drinks  \n",
              "3  938.362976        2  Soft Drinks  \n",
              "4  847.614448        2       Juices  "
            ]
          },
          "execution_count": 17,
          "metadata": {},
          "output_type": "execute_result"
        }
      ],
      "source": [
        "data = pd.read_csv(\"Dataset_clustering.csv\")\n",
        "data.head()"
      ]
    },
    {
      "cell_type": "code",
      "execution_count": 18,
      "metadata": {},
      "outputs": [
        {
          "name": "stdout",
          "output_type": "stream",
          "text": [
            "Cluster distribution: Counter({1: 4770, 2: 2621, 0: 1667, 3: 942})\n"
          ]
        },
        {
          "data": {
            "image/png": "[encoded data removed]",
            "text/plain": [
              "<Figure size 800x600 with 1 Axes>"
            ]
          },
          "metadata": {},
          "output_type": "display_data"
        }
      ],
      "source": [
        "print(f\"Cluster distribution: {Counter(data['Cluster'])}\")\n",
        "plt.figure(figsize=(8, 6))\n",
        "ax = sns.countplot(x=\"Cluster\", data=data, hue=\"Cluster\", palette=\"viridis\")\n",
        "plt.title(\"Distribution of Target Classes (Clusters)\")\n",
        "\n",
        "for container in ax.containers:\n",
        "    ax.bar_label(container, fmt=\"%d\", label_type=\"edge\", padding=3)\n",
        "plt.legend(loc=\"best\")\n",
        "plt.show()"
      ]
    },
    {
      "cell_type": "code",
      "execution_count": 19,
      "metadata": {},
      "outputs": [
        {
          "name": "stdout",
          "output_type": "stream",
          "text": [
            "(10000, 7) (10000,)\n"
          ]
        }
      ],
      "source": [
        "X = data.drop(columns=[\"Cluster\", \"Customer_ID\"])\n",
        "y = data[\"Cluster\"]\n",
        "print(X.shape, y.shape)"
      ]
    },
    {
      "cell_type": "code",
      "execution_count": 20,
      "metadata": {},
      "outputs": [
        {
          "data": {
            "text/html": [
              "<div>\n",
              "<style scoped>\n",
              "    .dataframe tbody tr th:only-of-type {\n",
              "        vertical-align: middle;\n",
              "    }\n",
              "\n",
              "    .dataframe tbody tr th {\n",
              "        vertical-align: top;\n",
              "    }\n",
              "\n",
              "    .dataframe thead th {\n",
              "        text-align: right;\n",
              "    }\n",
              "</style>\n",
              "<table border=\"1\" class=\"dataframe\">\n",
              "  <thead>\n",
              "    <tr style=\"text-align: right;\">\n",
              "      <th></th>\n",
              "      <th>Recency</th>\n",
              "      <th>Frequency</th>\n",
              "      <th>Monetary</th>\n",
              "      <th>Count_Discount</th>\n",
              "      <th>Avg_Discount</th>\n",
              "      <th>AOV</th>\n",
              "      <th>Top_Category_Alcoholic Beverages</th>\n",
              "      <th>Top_Category_Juices</th>\n",
              "      <th>Top_Category_Soft Drinks</th>\n",
              "      <th>Top_Category_Water</th>\n",
              "    </tr>\n",
              "  </thead>\n",
              "  <tbody>\n",
              "    <tr>\n",
              "      <th>0</th>\n",
              "      <td>1.0</td>\n",
              "      <td>305.0</td>\n",
              "      <td>38904.13</td>\n",
              "      <td>0.0</td>\n",
              "      <td>0.000000</td>\n",
              "      <td>127.554525</td>\n",
              "      <td>False</td>\n",
              "      <td>False</td>\n",
              "      <td>True</td>\n",
              "      <td>False</td>\n",
              "    </tr>\n",
              "    <tr>\n",
              "      <th>1</th>\n",
              "      <td>2.0</td>\n",
              "      <td>296.0</td>\n",
              "      <td>40288.83</td>\n",
              "      <td>0.0</td>\n",
              "      <td>0.000000</td>\n",
              "      <td>136.110912</td>\n",
              "      <td>False</td>\n",
              "      <td>False</td>\n",
              "      <td>False</td>\n",
              "      <td>True</td>\n",
              "    </tr>\n",
              "    <tr>\n",
              "      <th>2</th>\n",
              "      <td>3.0</td>\n",
              "      <td>287.0</td>\n",
              "      <td>36039.74</td>\n",
              "      <td>0.0</td>\n",
              "      <td>0.000000</td>\n",
              "      <td>125.574007</td>\n",
              "      <td>False</td>\n",
              "      <td>False</td>\n",
              "      <td>True</td>\n",
              "      <td>False</td>\n",
              "    </tr>\n",
              "    <tr>\n",
              "      <th>3</th>\n",
              "      <td>1.0</td>\n",
              "      <td>289.0</td>\n",
              "      <td>271186.90</td>\n",
              "      <td>881.0</td>\n",
              "      <td>99.625474</td>\n",
              "      <td>938.362976</td>\n",
              "      <td>False</td>\n",
              "      <td>False</td>\n",
              "      <td>True</td>\n",
              "      <td>False</td>\n",
              "    </tr>\n",
              "    <tr>\n",
              "      <th>4</th>\n",
              "      <td>7.0</td>\n",
              "      <td>299.0</td>\n",
              "      <td>253436.72</td>\n",
              "      <td>929.0</td>\n",
              "      <td>92.616119</td>\n",
              "      <td>847.614448</td>\n",
              "      <td>False</td>\n",
              "      <td>True</td>\n",
              "      <td>False</td>\n",
              "      <td>False</td>\n",
              "    </tr>\n",
              "  </tbody>\n",
              "</table>\n",
              "</div>"
            ],
            "text/plain": [
              "   Recency  Frequency   Monetary  Count_Discount  Avg_Discount         AOV  \\\n",
              "0      1.0      305.0   38904.13             0.0      0.000000  127.554525   \n",
              "1      2.0      296.0   40288.83             0.0      0.000000  136.110912   \n",
              "2      3.0      287.0   36039.74             0.0      0.000000  125.574007   \n",
              "3      1.0      289.0  271186.90           881.0     99.625474  938.362976   \n",
              "4      7.0      299.0  253436.72           929.0     92.616119  847.614448   \n",
              "\n",
              "   Top_Category_Alcoholic Beverages  Top_Category_Juices  \\\n",
              "0                             False                False   \n",
              "1                             False                False   \n",
              "2                             False                False   \n",
              "3                             False                False   \n",
              "4                             False                 True   \n",
              "\n",
              "   Top_Category_Soft Drinks  Top_Category_Water  \n",
              "0                      True               False  \n",
              "1                     False                True  \n",
              "2                      True               False  \n",
              "3                      True               False  \n",
              "4                     False               False  "
            ]
          },
          "execution_count": 20,
          "metadata": {},
          "output_type": "execute_result"
        }
      ],
      "source": [
        "X_encoding = pd.get_dummies(X, columns=[\"Top_Category\"])\n",
        "X_encoding.head()"
      ]
    },
    {
      "cell_type": "code",
      "execution_count": 51,
      "metadata": {},
      "outputs": [
        {
          "name": "stdout",
          "output_type": "stream",
          "text": [
            "Resampled dataset shape: Counter({1: 4770, 2: 4770, 0: 4770, 3: 4770})\n"
          ]
        }
      ],
      "source": [
        "smote = SMOTE(random_state=42)\n",
        "\n",
        "X_resampled, y_resampled = smote.fit_resample(X_encoding, y)\n",
        "print(f\"Resampled dataset shape: {Counter(y_resampled)}\")\n",
        "\n",
        "X_resampled = pd.DataFrame(X_resampled, columns=X_encoding.columns)\n",
        "y_resampled = pd.Series(y_resampled, name=\"Cluster\")"
      ]
    },
    {
      "cell_type": "markdown",
      "metadata": {
        "id": "KkPem5eWL2UP"
      },
      "source": [
        "# **3. Data Splitting**"
      ]
    },
    {
      "cell_type": "markdown",
      "metadata": {
        "id": "YYj1rl_JNI9Y"
      },
      "source": [
        "Tahap Data Splitting bertujuan untuk memisahkan dataset menjadi dua bagian: data latih (training set) dan data uji (test set)."
      ]
    },
    {
      "cell_type": "code",
      "execution_count": 68,
      "metadata": {
        "id": "OubAW-7ONKVj"
      },
      "outputs": [
        {
          "name": "stdout",
          "output_type": "stream",
          "text": [
            "Training set shape: (18698, 10), (18698,)\n",
            "Test set shape: (382, 10), (382,)\n",
            "Label Distribution (Train): Counter({1: 4675, 3: 4675, 0: 4674, 2: 4674})\n",
            "Label Distribution (Test): Counter({2: 96, 0: 96, 1: 95, 3: 95})\n"
          ]
        }
      ],
      "source": [
        "X_train, X_test, y_train, y_test = train_test_split(X_resampled, y_resampled, test_size=0.02, random_state=42, stratify=y_resampled)\n",
        "print(f\"Training set shape: {X_train.shape}, {y_train.shape}\")\n",
        "print(f\"Test set shape: {X_test.shape}, {y_test.shape}\")\n",
        "\n",
        "print(f\"Label Distribution (Train): {Counter(y_train)}\")\n",
        "print(f\"Label Distribution (Test): {Counter(y_test)}\")"
      ]
    },
    {
      "cell_type": "code",
      "execution_count": 69,
      "metadata": {},
      "outputs": [
        {
          "name": "stdout",
          "output_type": "stream",
          "text": [
            "Train:  (18698, 10)\n",
            "Test:  (382, 10)\n"
          ]
        }
      ],
      "source": [
        "scaler = StandardScaler()\n",
        "\n",
        "X_train_scaled = scaler.fit_transform(X_train)\n",
        "X_test_scaled = scaler.transform(X_test)\n",
        "\n",
        "X_train_scaled = pd.DataFrame(X_train, columns=X_train.columns)\n",
        "X_test_scaled = pd.DataFrame(X_test, columns=X_test.columns)\n",
        "\n",
        "print(\"Train: \", X_train_scaled.shape)\n",
        "print(\"Test: \", X_test_scaled.shape)"
      ]
    },
    {
      "cell_type": "markdown",
      "metadata": {
        "id": "IVPbB03CMhTT"
      },
      "source": [
        "# **4. Membangun Model Klasifikasi**\n"
      ]
    },
    {
      "cell_type": "markdown",
      "metadata": {
        "id": "Ned1pL9zMmBK"
      },
      "source": [
        "## **a. Membangun Model Klasifikasi**"
      ]
    },
    {
      "cell_type": "markdown",
      "metadata": {
        "id": "WAWzPOE4Nkti"
      },
      "source": [
        "Setelah memilih algoritma klasifikasi yang sesuai, langkah selanjutnya adalah melatih model menggunakan data latih.\n",
        "\n",
        "Berikut adalah rekomendasi tahapannya.\n",
        "1. Pilih algoritma klasifikasi yang sesuai, seperti Logistic Regression, Decision Tree, Random Forest, atau K-Nearest Neighbors (KNN).\n",
        "2. Latih model menggunakan data latih."
      ]
    },
    {
      "cell_type": "code",
      "execution_count": 81,
      "metadata": {
        "id": "4JYxBe87NLDk"
      },
      "outputs": [
        {
          "name": "stdout",
          "output_type": "stream",
          "text": [
            "Accuracy Score KNN Model (Train): 0.8299283345812386\n",
            "Accuracy Score RF Model (Train): 1.0\n"
          ]
        }
      ],
      "source": [
        "knn_model = KNeighborsClassifier().fit(X_train_scaled, y_train)\n",
        "dt_model = DecisionTreeClassifier().fit(X_train_scaled, y_train)\n",
        "\n",
        "y_pred_train_knn = knn_model.predict(X_train_scaled)\n",
        "y_pred_train_dt = dt_model.predict(X_train_scaled)\n",
        "\n",
        "print(f\"Accuracy Score KNN Model (Train): {accuracy_score(y_train, y_pred_train_knn)}\")\n",
        "print(f\"Accuracy Score RF Model (Train): {accuracy_score(y_train, y_pred_train_dt)}\")"
      ]
    },
    {
      "cell_type": "markdown",
      "metadata": {
        "id": "seYoHNY3XU1y"
      },
      "source": [
        "Tulis narasi atau penjelasan algoritma yang Anda gunakan."
      ]
    },
    {
      "cell_type": "markdown",
      "metadata": {
        "id": "ergzChZFEL-O"
      },
      "source": [
        "## **b. Evaluasi Model Klasifikasi**"
      ]
    },
    {
      "cell_type": "markdown",
      "metadata": {
        "id": "zOm68u-7NpLT"
      },
      "source": [
        "Berikut adalah **rekomendasi** tahapannya.\n",
        "1. Lakukan prediksi menggunakan data uji.\n",
        "2. Hitung metrik evaluasi seperti Accuracy dan F1-Score (Opsional: Precision dan Recall).\n",
        "3. Buat confusion matrix untuk melihat detail prediksi benar dan salah."
      ]
    },
    {
      "cell_type": "code",
      "execution_count": 82,
      "metadata": {},
      "outputs": [
        {
          "name": "stdout",
          "output_type": "stream",
          "text": [
            "KNN Model: \n",
            "               precision    recall  f1-score   support\n",
            "\n",
            "           0       0.63      0.72      0.67        96\n",
            "           1       0.67      0.58      0.62        95\n",
            "           2       0.80      0.68      0.73        96\n",
            "           3       0.72      0.83      0.77        95\n",
            "\n",
            "    accuracy                           0.70       382\n",
            "   macro avg       0.71      0.70      0.70       382\n",
            "weighted avg       0.71      0.70      0.70       382\n",
            "\n",
            "Accuracy Score KNN Model: 0.7015706806282722\n",
            "F1 Score KNN Model: 0.6999788613557446\n"
          ]
        },
        {
          "data": {
            "image/png": "[encoded data removed]",
            "text/plain": [
              "<Figure size 800x600 with 1 Axes>"
            ]
          },
          "metadata": {},
          "output_type": "display_data"
        }
      ],
      "source": [
        "y_pred_knn = knn_model.predict(X_test_scaled)\n",
        "\n",
        "print(f\"KNN Model: \\n {classification_report(y_test, y_pred_knn)}\")\n",
        "print(f\"Accuracy Score KNN Model: {accuracy_score(y_test, y_pred_knn)}\")\n",
        "print(f\"F1 Score KNN Model: {f1_score(y_test, y_pred_knn, average='weighted')}\")\n",
        "\n",
        "plt.figure(figsize=(8, 6))\n",
        "cm = confusion_matrix(y_test, y_pred_knn)\n",
        "sns.heatmap(cm, annot=True, fmt=\"d\", cmap=\"Blues\", cbar=False)\n",
        "plt.xlabel(\"Predict\")\n",
        "plt.ylabel(\"Actual\")\n",
        "plt.title(\"Confusion Matrix KNN Model\")\n",
        "plt.show()"
      ]
    },
    {
      "cell_type": "code",
      "execution_count": 83,
      "metadata": {},
      "outputs": [
        {
          "name": "stdout",
          "output_type": "stream",
          "text": [
            "DT Model: \n",
            "               precision    recall  f1-score   support\n",
            "\n",
            "           0       1.00      1.00      1.00        96\n",
            "           1       1.00      1.00      1.00        95\n",
            "           2       1.00      1.00      1.00        96\n",
            "           3       1.00      1.00      1.00        95\n",
            "\n",
            "    accuracy                           1.00       382\n",
            "   macro avg       1.00      1.00      1.00       382\n",
            "weighted avg       1.00      1.00      1.00       382\n",
            "\n",
            "Accuracy Score DT Model: 1.0\n",
            "F1 Score DT Model: 1.0\n"
          ]
        },
        {
          "data": {
            "image/png": "[encoded data removed]",
            "text/plain": [
              "<Figure size 800x600 with 1 Axes>"
            ]
          },
          "metadata": {},
          "output_type": "display_data"
        }
      ],
      "source": [
        "y_pred_dt = dt_model.predict(X_test_scaled)\n",
        "\n",
        "print(f\"DT Model: \\n {classification_report(y_test, y_pred_dt)}\")\n",
        "print(f\"Accuracy Score DT Model: {accuracy_score(y_test, y_pred_dt)}\")\n",
        "print(f\"F1 Score DT Model: {f1_score(y_test, y_pred_dt, average='weighted')}\")\n",
        "\n",
        "plt.figure(figsize=(8, 6))\n",
        "cm = confusion_matrix(y_test, y_pred_dt)\n",
        "sns.heatmap(cm, annot=True, fmt=\"d\", cmap=\"Blues\", cbar=False)\n",
        "plt.xlabel(\"Predict\")\n",
        "plt.ylabel(\"Actual\")\n",
        "plt.title(\"Confusion Matrix NB Model\")\n",
        "plt.show()"
      ]
    },
    {
      "cell_type": "markdown",
      "metadata": {
        "id": "H4_9OwrsXZlz"
      },
      "source": [
        "Tulis hasil evaluasi algoritma yang digunakan, jika Anda menggunakan 2 algoritma, maka bandingkan hasilnya."
      ]
    },
    {
      "cell_type": "markdown",
      "metadata": {
        "id": "ph9yIYDXEPuB"
      },
      "source": [
        "## **c. Tuning Model Klasifikasi (Optional)**"
      ]
    },
    {
      "cell_type": "markdown",
      "metadata": {
        "id": "-Bikx3LINv5e"
      },
      "source": [
        "Gunakan GridSearchCV, RandomizedSearchCV, atau metode lainnya untuk mencari kombinasi hyperparameter terbaik"
      ]
    },
    {
      "cell_type": "code",
      "execution_count": 84,
      "metadata": {},
      "outputs": [
        {
          "name": "stdout",
          "output_type": "stream",
          "text": [
            "Best parameters: {'metric': 'manhattan', 'n_neighbors': 5, 'weights': 'distance'}\n"
          ]
        }
      ],
      "source": [
        "param_grid = {\n",
        "    \"n_neighbors\": [5, 7, 9, 11, 13],\n",
        "    \"weights\": [\"uniform\", \"distance\"],\n",
        "    \"metric\": [\"euclidean\", \"manhattan\", \"minkowski\"]\n",
        "}\n",
        "\n",
        "grid_search = GridSearchCV(\n",
        "    estimator=knn_model,\n",
        "    param_grid=param_grid,\n",
        "    cv=5,\n",
        "    n_jobs=-1,\n",
        "    verbose=0\n",
        ")\n",
        "\n",
        "grid_search.fit(X_train_scaled, y_train)\n",
        "\n",
        "print(f\"Best parameters: {grid_search.best_params_}\")\n",
        "best_param = grid_search.best_estimator_"
      ]
    },
    {
      "cell_type": "markdown",
      "metadata": {
        "id": "hE7pqlEPEYzI"
      },
      "source": [
        "## **d. Evaluasi Model Klasifikasi setelah Tuning (Optional)**"
      ]
    },
    {
      "cell_type": "markdown",
      "metadata": {
        "id": "feaPESoeN0zz"
      },
      "source": [
        "Berikut adalah rekomendasi tahapannya.\n",
        "1. Gunakan model dengan hyperparameter terbaik.\n",
        "2. Hitung ulang metrik evaluasi untuk melihat apakah ada peningkatan performa."
      ]
    },
    {
      "cell_type": "code",
      "execution_count": 85,
      "metadata": {
        "id": "HTXZRvEeNMb1"
      },
      "outputs": [
        {
          "name": "stdout",
          "output_type": "stream",
          "text": [
            "KNN Model (Tuning): \n",
            "               precision    recall  f1-score   support\n",
            "\n",
            "           0       0.72      0.86      0.79        96\n",
            "           1       0.83      0.66      0.74        95\n",
            "           2       0.86      0.78      0.82        96\n",
            "           3       0.80      0.87      0.83        95\n",
            "\n",
            "    accuracy                           0.80       382\n",
            "   macro avg       0.80      0.80      0.79       382\n",
            "weighted avg       0.80      0.80      0.79       382\n",
            "\n",
            "Accuracy Score KNN Model (Tuning): 0.7958115183246073\n",
            "F1 Score KNN Model (Tuning): 0.7944000578446432\n"
          ]
        },
        {
          "data": {
            "image/png": "[encoded data removed]",
            "text/plain": [
              "<Figure size 800x600 with 1 Axes>"
            ]
          },
          "metadata": {},
          "output_type": "display_data"
        }
      ],
      "source": [
        "y_pred_tuning = grid_search.predict(X_test_scaled)\n",
        "\n",
        "print(f\"KNN Model (Tuning): \\n {classification_report(y_test, y_pred_tuning)}\")\n",
        "print(f\"Accuracy Score KNN Model (Tuning): {accuracy_score(y_test, y_pred_tuning)}\")\n",
        "print(f\"F1 Score KNN Model (Tuning): {f1_score(y_test, y_pred_tuning, average='weighted')}\")\n",
        "\n",
        "plt.figure(figsize=(8, 6))\n",
        "cm = confusion_matrix(y_test, y_pred_tuning)\n",
        "sns.heatmap(cm, annot=True, fmt=\"d\", cmap=\"Blues\", cbar=False)\n",
        "plt.xlabel(\"Predict\")\n",
        "plt.ylabel(\"Actual\")\n",
        "plt.title(\"Confusion Matrix NB Model (Tuning)\")\n",
        "plt.show()"
      ]
    },
    {
      "cell_type": "markdown",
      "metadata": {
        "id": "ZRsOdm4uEgAW"
      },
      "source": [
        "## **e. Analisis Hasil Evaluasi Model Klasifikasi**"
      ]
    },
    {
      "cell_type": "markdown",
      "metadata": {
        "id": "Hm3BhSi6N4_l"
      },
      "source": [
        "Berikut adalah **rekomendasi** tahapannya.\n",
        "1. Bandingkan hasil evaluasi sebelum dan setelah tuning (jika dilakukan).\n",
        "2. Identifikasi kelemahan model, seperti:\n",
        "  - Precision atau Recall rendah untuk kelas tertentu.\n",
        "  - Apakah model mengalami overfitting atau underfitting?\n",
        "3. Berikan rekomendasi tindakan lanjutan, seperti mengumpulkan data tambahan atau mencoba algoritma lain jika hasil belum memuaskan."
      ]
    },
    {
      "cell_type": "markdown",
      "metadata": {},
      "source": [
        "Setelah dilakukan tuning pada hyperparameter menggunakan metode Grid Search, terjadi peningkatan akurasi dari 70.15% menjadi 79.58% yang menunjukan adanya perbaikan performa secara keseluruhan. Namun, berdasarkan confusion matrix kelas 1 memiliki nilai recall paling rendah, yaitu 0.66, meskipun precission-nya tergolong tinggi (0.83).\n",
        "\n",
        "Meskipun tidak terdapat indikasi kuat terjadinya overfitting, nilai F1-Score yang sedikit lebih rendah pada kelas tertentu dapat menunjukan bahwa model masih bisa ditingkatkan, terutama dalam hal generalisasi pada kelas yang kurang seimbang. Rekomendasi tindakan lanjutan yang dapat dilakukan adalah memperbanyak dataset terutama untuk kelas yang tidak seimbang"
      ]
    }
  ],
  "metadata": {
    "colab": {
      "provenance": []
    },
    "kernelspec": {
      "display_name": "Python 3",
      "name": "python3"
    },
    "language_info": {
      "codemirror_mode": {
        "name": "ipython",
        "version": 3
      },
      "file_extension": ".py",
      "mimetype": "text/x-python",
      "name": "python",
      "nbconvert_exporter": "python",
      "pygments_lexer": "ipython3",
      "version": "3.10.8"
    }
  },
  "nbformat": 4,
  "nbformat_minor": 0
}
